{
 "cells": [
  {
   "cell_type": "markdown",
   "metadata": {},
   "source": [
    "## Homework 3, Problem 3 on inhomogeneous Poisson processes\n",
    "\n",
    "ECE C143A/C243A, Spring Quarter 2022, Prof. J.C. Kao, TAs T. Monsoor, W. Yu.\n"
   ]
  },
  {
   "cell_type": "markdown",
   "metadata": {},
   "source": [
    " In this problem, we will use the same simulated neuron as in\n",
    "  Problem 2, but now the reaching angle $s$ will be time-dependent\n",
    "  with the following form:\n",
    "$$ s(t) = t^2 \\cdot \\pi,$$\n",
    "\n",
    "where $t$ ranges between 0 and 1 second. This will be refered as *s(t)* equation in the questions.\n"
   ]
  },
  {
   "cell_type": "code",
   "execution_count": 43,
   "metadata": {
    "collapsed": true
   },
   "outputs": [
    {
     "name": "stdout",
     "output_type": "stream",
     "text": [
      "The autoreload extension is already loaded. To reload it, use:\n",
      "  %reload_ext autoreload\n"
     ]
    }
   ],
   "source": [
    "\"\"\"\n",
    "ECE C143/C243 Homework-3 Problem-3\n",
    "\n",
    "\"\"\"\n",
    "import numpy as np\n",
    "import matplotlib.pyplot as plt\n",
    "import nsp as nsp # these are helper functions that we provide.\n",
    "import scipy.special\n",
    "\n",
    "# Load matplotlib images inline\n",
    "%matplotlib inline\n",
    "\n",
    "# Reloading any code written in external .py files.\n",
    "%load_ext autoreload\n",
    "%autoreload 2"
   ]
  },
  {
   "cell_type": "markdown",
   "metadata": {},
   "source": [
    "### (a) (6 points) Spike trains\n",
    "Generate 100 spike trains, each 1 second in duration, according to\n",
    "an inhomogeneous Poisson process with a firing rate profile defined\n",
    "by tuning equation, $$\\lambda(s) = r_0 + (r_\\text{max} - r_0)\\cos(s-s_\\text{max})$$ \n",
    "and the $s(t)$ equation, $$ s(t) = t^2 \\cdot \\pi$$"
   ]
  },
  {
   "cell_type": "code",
   "execution_count": 44,
   "metadata": {
    "collapsed": true
   },
   "outputs": [],
   "source": [
    "r_0 = 35 # (spikes/s)\n",
    "r_max = 60 # (spikes/s)\n",
    "s_max = np.pi/2 # (radians)\n",
    "T = 1000 # trial length (ms)"
   ]
  },
  {
   "cell_type": "code",
   "execution_count": 45,
   "metadata": {},
   "outputs": [
    {
     "data": {
      "text/plain": [
       "72.40687129967107"
      ]
     },
     "execution_count": 45,
     "metadata": {},
     "output_type": "execute_result"
    }
   ],
   "source": [
    "np.random.exponential(1.0/r_max * 1000)"
   ]
  },
  {
   "cell_type": "code",
   "execution_count": 46,
   "metadata": {},
   "outputs": [
    {
     "data": {
      "image/png": "[encoded data removed]",
      "text/plain": [
       "<matplotlib.figure.Figure at 0x7ffd305c5f28>"
      ]
     },
     "metadata": {
      "needs_background": "light"
     },
     "output_type": "display_data"
    }
   ],
   "source": [
    "## 3a\n",
    "num_trials = 100 # number of total spike trains\n",
    "num_rasters_to_plot = 5 # number of spike trains to plot\n",
    "#====================================================#\n",
    "# YOUR CODE HERE:\n",
    "#   Generate the spike times for 100 trials of an inhomogeneous\n",
    "#   Poisson process.  Plot 5 example spike rasters.\n",
    "#====================================================#\n",
    "spike_times = np.empty(( num_trials), dtype=list)\n",
    "for trial in range(num_trials):\n",
    "    spike_times[trial] = nsp.GeneratePoissonSpikeTrain(T, rate=r_max)\n",
    "    # thin the train\n",
    "    del_ind = []\n",
    "    for spike in range(len(spike_times[trial])):\n",
    "        l_T_i = r_0 + (r_max-r_0)*np.cos(np.pi*((spike_times[trial][spike]/1000)**2)-s_max)\n",
    "        if (np.random.rand()>(l_T_i/r_max)):\n",
    "            del_ind.append(spike)\n",
    "    spike_times[trial] = np.delete(spike_times[trial],del_ind)        \n",
    "\n",
    "plt.figure(figsize=(10,8))\n",
    "nsp.PlotSpikeRaster(spike_times[0:num_rasters_to_plot])\n",
    "plt.title('Spike trains')\n",
    "plt.tight_layout()\n",
    "\n",
    "#====================================================#\n",
    "# END YOUR CODE\n",
    "#====================================================#\n"
   ]
  },
  {
   "cell_type": "markdown",
   "metadata": {},
   "source": [
    "### (b) (5 points) Spike histogram\n",
    "  Plot the spike histogram by taking spike counts in non-overlapping\n",
    "  20 ms bins, then averaging across the 100 trials.  The spike\n",
    "  histogram should have firing rate (in spikes / second) as the\n",
    "  vertical axis and time (in msec, not time bin index) as the\n",
    "  horizontal axis. Plot the expected firing rate profile defined by equations\n",
    " tuning equation and *s(t)* equation on the same plot. "
   ]
  },
  {
   "cell_type": "code",
   "execution_count": 47,
   "metadata": {},
   "outputs": [
    {
     "data": {
      "text/plain": [
       "Text(0.5,0,'Time(ms)')"
      ]
     },
     "execution_count": 47,
     "metadata": {},
     "output_type": "execute_result"
    },
    {
     "data": {
      "image/png": "[encoded data removed]",
      "text/plain": [
       "<matplotlib.figure.Figure at 0x7ffd309ac8d0>"
      ]
     },
     "metadata": {
      "needs_background": "light"
     },
     "output_type": "display_data"
    }
   ],
   "source": [
    "# 3b\n",
    "bin_width = 20 # (ms)\n",
    "#====================================================#\n",
    "# YOUR CODE HERE:\n",
    "#   Plot the spike histogram\n",
    "#====================================================#\n",
    "edges = np.arange(0,1020,bin_width)\n",
    "heights = np.zeros_like(edges)\n",
    "for (i,height) in enumerate(heights):\n",
    "    if edges[i] < edges[-1]:\n",
    "        spike_count =0\n",
    "        for trial in range(num_trials):\n",
    "            spike_count += np.sum((spike_times[trial][1:]<=edges[i+1])*(spike_times[trial][1:]>=edges[i]))/num_trials\n",
    "        heights[i] = (spike_count/20)*1000\n",
    "plt.bar(edges, heights, width=20, align='edge')\n",
    "plt.plot(edges,r_0 + (r_max-r_0)*np.cos(np.pi*((edges/1000)**2)-s_max), c=\"red\")\n",
    "#====================================================#\n",
    "# END YOUR CODE\n",
    "#====================================================#\n",
    "\n",
    "plt.ylabel('spikes/s')\n",
    "plt.xlabel('Time(ms)')"
   ]
  },
  {
   "cell_type": "markdown",
   "metadata": {},
   "source": [
    "#### Question:\n",
    "Does the spike histogram agree with the expected firing rate profile?"
   ]
  },
  {
   "cell_type": "markdown",
   "metadata": {},
   "source": [
    "#### Your Answer:\n",
    "\n",
    "yes, the spike histogram follows our expected firing rate profile fairly well. We see some deviation but this is to be expected since this is an empirical result created from random variables. In larger data sizes we would expect the curves to more closely converge (stochastic noise will be averaged out)."
   ]
  },
  {
   "cell_type": "markdown",
   "metadata": {},
   "source": [
    "### (c) (6 points) Count distribution\n",
    "  For each trial, count the number of spikes across the entire trial.\n",
    "  Plot the normalized distribution of spike counts.  Fit a Poisson\n",
    "  distribution to this empirical distribution and plot it on top of\n",
    "  the empirical distribution.  "
   ]
  },
  {
   "cell_type": "code",
   "execution_count": 48,
   "metadata": {},
   "outputs": [
    {
     "data": {
      "image/png": "[encoded data removed]",
      "text/plain": [
       "<matplotlib.figure.Figure at 0x7ffd304ec4a8>"
      ]
     },
     "metadata": {
      "needs_background": "light"
     },
     "output_type": "display_data"
    }
   ],
   "source": [
    "#====================================================#\n",
    "# YOUR CODE HERE:\n",
    "#   Plot the normalized distribution of spike counts\n",
    "#====================================================#\n",
    "spike_counts = np.zeros((num_trials)) \n",
    "for rep in range(num_trials):\n",
    "    spike_counts[rep] = int(len(spike_times[rep][1:]))\n",
    "mean_rates = np.mean(spike_counts)\n",
    "max_count = np.max(spike_counts)\n",
    "spike_count_bin_centers =  np.arange(0,max_count,1)\n",
    "\n",
    "bins = np.zeros_like(spike_count_bin_centers)\n",
    "for i,item in enumerate(bins):\n",
    "    if spike_count_bin_centers[i]<spike_count_bin_centers[-1]:\n",
    "        bins[i] = np.sum((spike_counts>=spike_count_bin_centers[i])*(spike_counts<spike_count_bin_centers[i+1]))/num_trials\n",
    "    else:\n",
    "        bins[i] = np.sum((spike_counts>=spike_count_bin_centers[i])*(spike_counts<max_count+1))/num_trials\n",
    "est_rate = mean_rates\n",
    "p_dist = np.power(np.array([est_rate]*len(spike_count_bin_centers)),spike_count_bin_centers)*np.exp(-est_rate)/scipy.special.factorial(spike_count_bin_centers)\n",
    "\n",
    "plt.scatter(spike_count_bin_centers,bins)    \n",
    "plt.plot(spike_count_bin_centers, p_dist, c=\"red\")\n",
    "#====================================================#\n",
    "# END YOUR CODE\n",
    "#====================================================#\n",
    "plt.xlim([0, max_count])\n",
    "#====================================================#\n",
    "# END YOUR CODE\n",
    "#====================================================#\n",
    "plt.xlabel('spike count')\n",
    "plt.ylabel('p(spikecount)')\n",
    "plt.show()"
   ]
  },
  {
   "cell_type": "markdown",
   "metadata": {},
   "source": [
    "#### Question:\n",
    "Should we expect the spike counts to be Poisson-distributed?"
   ]
  },
  {
   "cell_type": "markdown",
   "metadata": {},
   "source": [
    "#### Your Answer:\n",
    "\n",
    "Yes we should expect the spike counts to be Poisson distrubuted. This is because the non-homogenous process is created from thinning a homogenous poisson process. By the thinning property, thinning a poisson process yeilds a poisson process, thus we would expect the spike counts to be poisson distributed. The deviations we see are due to stochastic noise and are drastically reduced when we force the number of trials to be much higher (attempted with 10000). "
   ]
  },
  {
   "cell_type": "markdown",
   "metadata": {},
   "source": [
    "### (d) (5 points) ISI distribution\n",
    "  Plot the normalized distribution of ISIs.  Fit an exponential\n",
    "  distribution to the empirical distribution and plot it on top of the\n",
    "  empirical distribution. "
   ]
  },
  {
   "cell_type": "code",
   "execution_count": 50,
   "metadata": {},
   "outputs": [
    {
     "data": {
      "image/png": "[encoded data removed]",
      "text/plain": [
       "<matplotlib.figure.Figure at 0x7ffd3046f358>"
      ]
     },
     "metadata": {
      "needs_background": "light"
     },
     "output_type": "display_data"
    }
   ],
   "source": [
    "#====================================================#\n",
    "# YOUR CODE HERE:\n",
    "#   Plot the normalized distribution of ISIs\n",
    "#====================================================#\n",
    "\n",
    "ISI = np.zeros_like(spike_times)\n",
    "mean_ISI = np.zeros_like(spike_times)\n",
    "max_ISI = 0.0\n",
    "for rep in range(num_trials):\n",
    "    ISI[rep] = np.diff(spike_times[rep])\n",
    "    mean_ISI[rep] = np.mean(ISI[rep])\n",
    "    max_ISI = np.maximum(np.max(ISI[rep]),max_ISI)\n",
    "avg_ISI = np.mean(mean_ISI)\n",
    "lambd = 1/avg_ISI\n",
    "ISI_bin_centers =  np.arange(0,max_ISI,1)\n",
    "\n",
    "bins = np.zeros_like(ISI_bin_centers)\n",
    "for i,item in enumerate(bins):\n",
    "    data_points =0;\n",
    "    for rep in range(num_trials):\n",
    "        if ISI_bin_centers[i]<ISI_bin_centers[-1]:\n",
    "            bins[i] += np.sum((ISI[rep]>=ISI_bin_centers[i])*(ISI[rep]<ISI_bin_centers[i+1]))\n",
    "            data_points += len(ISI[rep])\n",
    "        else:\n",
    "            bins[i] += np.sum((ISI[rep] >= ISI_bin_centers[i])*(ISI[rep]<max_ISI+1))\n",
    "            data_points += len(ISI[rep])\n",
    "    bins[i]/= data_points\n",
    "p_dist = lambd*np.exp(-lambd*ISI_bin_centers)\n",
    "\n",
    "plt.scatter(ISI_bin_centers, bins)\n",
    "plt.plot(ISI_bin_centers, p_dist, c =\"red\")\n",
    "#====================================================#\n",
    "# END YOUR CODE\n",
    "#====================================================#\n",
    "plt.xlabel('ISI (ms)')\n",
    "plt.ylabel('P(ISI)')\n",
    "plt.show()"
   ]
  },
  {
   "cell_type": "markdown",
   "metadata": {},
   "source": [
    "#### Question: \n",
    "Should we expect the ISIs to be exponentially-distributed?\n",
    "(Note, it is possible for the  empirical distribution to strongly resemble an exponential distribution even if the data aren't exponentially distributed.)"
   ]
  },
  {
   "cell_type": "markdown",
   "metadata": {},
   "source": [
    "#### Your Answer:\n",
    "\n",
    "No, we should not expect the ISI's to be exponentially distributed. This is because the intervals of a non-homogenous poisson process are not exponentially distributed, so we should not expect that distribution to be representative of our results. We should note that the results resemble the distribution closely, but we should not believe it to be perfectly exponentially distributed."
   ]
  }
 ],
 "metadata": {
  "kernelspec": {
   "display_name": "Python 3",
   "language": "python",
   "name": "python3"
  },
  "language_info": {
   "codemirror_mode": {
    "name": "ipython",
    "version": 3
   },
   "file_extension": ".py",
   "mimetype": "text/x-python",
   "name": "python",
   "nbconvert_exporter": "python",
   "pygments_lexer": "ipython3",
   "version": "3.6.13"
  }
 },
 "nbformat": 4,
 "nbformat_minor": 2
}
