{
  "cells": [
    {
      "cell_type": "markdown",
      "metadata": {
        "id": "ZgG6ccU9SMxR"
      },
      "source": [
        "## Homework 4, Problem 4 Classification on real data\n",
        "\n",
        "ECE C143A/C243A, Spring Quarter 2022, Prof. J.C. Kao, TAs T. Monsoor, W. Yu"
      ]
    },
    {
      "cell_type": "markdown",
      "metadata": {
        "id": "lC0AeGDVSMxY"
      },
      "source": [
        "## Background\n",
        "Neural prosthetic systems can be built based on classifying neural activity related to planning. As described in class, this is analogous to mapping patterns of neural activity to keys on a keyboard.\n",
        "In this problem, we will apply the results of Problems 1 and 2 to real neural data. The neural data were recorded using a 100-electrode array in premotor cortex of a macaque monkey1. The dataset can be found on CCLE as `ps4_realdata.mat`.\n",
        "\n",
        "The following describes the data format. The `.mat` file is loaded into Python as a dictionary with two keys: `train_trial` contains the training data and `test_trial` contains the test data. Each of these contains spike trains recorded simultaneously from 97 neurons while the monkey reached 91 times along each of 8 different reaching angles.\n",
        "\n",
        "The spike train recorded from the $i_{th}$ neuron on the $n_{th}$ trial of the $k_{th}$ reaching angle is accessed as \n",
        "\n",
        "`data['train_trial'][n,k][1][i,:]`\n",
        "\n",
        "where n = 0,...,90, k = 0,...,7, and i = 0, . . . , 96.  The [1] in between [n,k] and [i,:] does not mean anything for this assignment and is simply an \"artifact\" of how the data is structured. A spike train is represented as a sequence of zeros and ones, where time is discretized in 1 ms steps. A zero indicates that the neuron did not spike in the 1 ms bin, whereas a one indicates that the neuron spiked once in the 1 ms bin. The structure test trial has the same format as train trial.\n",
        "\n",
        "Each spike train is 700 ms long (and thus represented by an array of length 700).  This comprises a 200ms baseline period (before the reach target turned on), a 500ms planning period (after the reach target turned on).  Because it takes time for information about the reach target to arrive in premotor cortex (due to the time required for action potentials to propagate and for visual processing), we will ignore the first 150ms of the planning period.  *** FOR THIS PROBLEM, we will take spike counts for each neuron within a single 200ms bin starting 150ms after the reach target turns on. ***\n",
        "\n",
        "In other words, to calculate firing rates, you will calculate it over the 200ms window: \n",
        "\n",
        "`data['train_trial'][n,k][1][i,350:550]`"
      ]
    },
    {
      "cell_type": "code",
      "execution_count": 29,
      "metadata": {
        "collapsed": true,
        "id": "cI7QYP8_SMxZ"
      },
      "outputs": [
        {
          "name": "stdout",
          "output_type": "stream",
          "text": [
            "The autoreload extension is already loaded. To reload it, use:\n",
            "  %reload_ext autoreload\n"
          ]
        }
      ],
      "source": [
        "import numpy as np\n",
        "import numpy.matlib as npm\n",
        "import matplotlib.pyplot as plt\n",
        "import scipy.special\n",
        "import scipy.io as sio\n",
        "import math\n",
        "\n",
        "data = sio.loadmat('ps4_realdata.mat') # load the .mat file.\n",
        "NumTrainData = data['train_trial'].shape[0]\n",
        "NumClass = data['train_trial'].shape[1]\n",
        "NumTestData = data['test_trial'].shape[0]\n",
        "\n",
        "# Reloading any code written in external .py files.\n",
        "%load_ext autoreload\n",
        "%autoreload 2"
      ]
    },
    {
      "cell_type": "markdown",
      "metadata": {
        "id": "pyyXSIvQSMxc"
      },
      "source": [
        "### (a) (8 points) \n",
        "Fit the ML parameters of model i) to the training data (91 × 8 observations of a length 97 array of neuron firing rates). \n",
        "\n",
        "To calculate the firing rates, use a single 200ms bin starting from 150ms after the target turns on.  This corresponds to using `data['train_trial'][n,k][1][i, 350:550]` to calculate all firing rates.  This corresponds to a 200ms window that turns on 150ms after the reach turns on.\n",
        "\n",
        "Then, use these parameters to classify the test data (91 × 8 data points) according to the decision rule (1). What is the percent of test data points correctly classified?"
      ]
    },
    {
      "cell_type": "code",
      "execution_count": 30,
      "metadata": {
        "collapsed": true,
        "id": "YiZpvKqpSMxd"
      },
      "outputs": [
        {
          "name": "stdout",
          "output_type": "stream",
          "text": [
            "0.8351648351648352\n"
          ]
        }
      ],
      "source": [
        "##4a\n",
        "\n",
        "# Calculate the firing rates.\n",
        "\n",
        "trainDataArr =  np.zeros((NumClass,NumTrainData,97)) # contains the firing rates for all neurons on all 8 x 91 trials in the training set\n",
        "testDataArr =  np.zeros((NumClass,NumTestData,97)) # for the testing set.\n",
        "\n",
        "for classIX in range(NumClass):\n",
        "    for trainDataIX in range(NumTrainData):   \n",
        "        trainDataArr[classIX,trainDataIX,:] = np.sum(data['train_trial'][trainDataIX,classIX][1][:,350:550],1)\n",
        "    for testDataIX in range(NumTestData):        \n",
        "        testDataArr[classIX,testDataIX,:]=np.sum(data['test_trial'][testDataIX,classIX][1][:,350:550],1)\n",
        "#====================================================#\n",
        "# YOUR CODE HERE:\n",
        "#   Fit the ML parameters of model i) to training data\n",
        "#====================================================#\n",
        "modParam1, modParam2, modParam3 ={},{},{}\n",
        "modParam1['pi']= np.array([1/NumClass]*NumClass)\n",
        "modParam1['mean'] = np.mean(trainDataArr, axis=1)\n",
        "modParam1['cov'] = np.cov(trainDataArr.reshape((NumClass*NumTrainData,97)).T)\n",
        "\n",
        "#====================================================#\n",
        "# END YOUR CODE\n",
        "#====================================================# \n",
        "\n",
        "#====================================================#\n",
        "# YOUR CODE HERE:\n",
        "#   Classify the test data and print the accuracy\n",
        "#====================================================#\n",
        " #Classify Model\n",
        "correct = 0.0\n",
        "total = NumTestData*NumClass\n",
        "for i in range(NumClass):\n",
        "    for j in range(NumTestData):\n",
        "        vals = np.zeros(NumClass)\n",
        "        x = testDataArr[i,j]\n",
        "        for classix in range(NumClass):\n",
        "            dem = x-modParam1['mean'][classix] \n",
        "            vals[classix] = np.log(modParam1['pi'][classix])- 0.5*dem@np.linalg.pinv(modParam1['cov'])@dem - 0.5*np.log(np.linalg.det(modParam1['cov']))\n",
        "        if np.argmax(vals)==i:\n",
        "            correct += 1\n",
        "print(float(correct)/total)\n",
        "#====================================================#\n",
        "# END YOUR CODE\n",
        "#====================================================# \n"
      ]
    },
    {
      "cell_type": "markdown",
      "metadata": {
        "id": "roEOYIOXSMxe"
      },
      "source": [
        "#### Question:\n",
        "What is the percent of test data points correctly classified?"
      ]
    },
    {
      "cell_type": "markdown",
      "metadata": {
        "id": "fb-M_g11SMxe"
      },
      "source": [
        "#### Your answer: \n",
        "83.5% of the test data points were correclty classified."
      ]
    },
    {
      "cell_type": "markdown",
      "metadata": {
        "id": "xsPJ14WjSMxf"
      },
      "source": [
        "### (b) (6 points) \n",
        "Repeat part (a) for model ii). You `should encounter a Python error` when classifying the test data. What is this error? Why did the Python error occur? What would we need to do to correct this error?\n",
        "\n",
        "To be concrete, the output of this cell should be a `Python error` and that's all fine.  But we want you to understand what the error is so we can fix it later.\n"
      ]
    },
    {
      "cell_type": "code",
      "execution_count": 31,
      "metadata": {
        "collapsed": true,
        "id": "jvrmfC3gSMxf"
      },
      "outputs": [
        {
          "name": "stderr",
          "output_type": "stream",
          "text": [
            "/home/kost/miniconda3/envs/NSP_hw2/lib/python3.6/site-packages/ipykernel_launcher.py:21: RuntimeWarning: divide by zero encountered in log\n"
          ]
        },
        {
          "name": "stdout",
          "output_type": "stream",
          "text": [
            "0.125\n"
          ]
        }
      ],
      "source": [
        "##4b\n",
        "\n",
        "#====================================================#\n",
        "# YOUR CODE HERE:\n",
        "# Fit the ML parameters of model ii) to training data\n",
        "#====================================================#\n",
        "modParam2['pi']= np.array([1/NumClass]*NumClass)\n",
        "modParam2['mean'] = np.mean(trainDataArr, axis=1)\n",
        "modParam2['cov'] = np.zeros((NumClass, 97,97))\n",
        "for classix in range(NumClass):\n",
        "    modParam2['cov'][classix] = np.cov(trainDataArr[classix].T)\n",
        "#Classify Model\n",
        "correct = 0.0\n",
        "total = NumTestData*NumClass\n",
        "for i in range(NumClass):\n",
        "    for j in range(NumTestData):\n",
        "        vals = np.zeros(NumClass)\n",
        "        x = testDataArr[i,j]\n",
        "        for classix in range(NumClass):\n",
        "            dem = x-modParam2['mean'][classix] \n",
        "            vals[classix] = np.log(modParam2['pi'][classix])- 0.5*dem@np.linalg.pinv(modParam2['cov'][classix])@dem - 0.5*np.log(np.linalg.det(modParam2['cov'][classix]))\n",
        "        if np.argmax(vals)==i:\n",
        "            correct += 1\n",
        "print(float(correct)/total)\n",
        "#====================================================#\n",
        "# END YOUR CODE\n",
        "#====================================================# \n"
      ]
    },
    {
      "cell_type": "markdown",
      "metadata": {
        "id": "w3OY8-AzSMxg"
      },
      "source": [
        "#### Question:\n",
        "Why did the python error occur? What would we need to do to correct this error?"
      ]
    },
    {
      "cell_type": "markdown",
      "metadata": {
        "id": "0_9ksV_FSMxg"
      },
      "source": [
        "#### Your answer:  \n",
        "This python error occured becuase there are some neruons in which a spike is never recoreded. These all zero spike trains make the determinant of our covariance matrix 0, and thus throw an error when computing the natural log of this value. To correct this error we can remove the neruon recordings in which no spikes are ever recore for a trial."
      ]
    },
    {
      "cell_type": "markdown",
      "metadata": {
        "id": "L_iD3gudSMxh"
      },
      "source": [
        "### (c) (8 points) \n",
        "Correct the problem from part (b) by detecting and then removing offending neurons that cause the error. Now, what is the percent of test data points correctly classified? Is it higher or lower than your answer to part (a)? Why might this be?"
      ]
    },
    {
      "cell_type": "code",
      "execution_count": 32,
      "metadata": {
        "collapsed": true,
        "id": "X6-byIMKSMxh"
      },
      "outputs": [
        {
          "name": "stdout",
          "output_type": "stream",
          "text": [
            "[10 27 36 40 46 50 71 72 74 88]\n",
            "0.4409340659340659\n"
          ]
        }
      ],
      "source": [
        "##4c\n",
        "neuronsToRemove = []\n",
        "#====================================================#\n",
        "# YOUR CODE HERE:\n",
        "#   Detect and then remove the offending neurons, so that \n",
        "#   you no longer run into the bug in part (b).\n",
        "#====================================================#\n",
        "for neuronix in range(97):\n",
        "    for i in range(NumClass):\n",
        "        bad_neruon = np.zeros(NumTrainData)\n",
        "        if np.all(trainDataArr[i,:,neuronix] == bad_neruon):\n",
        "            neuronsToRemove.append(neuronix)\n",
        "neuronsToRemove = np.unique(neuronsToRemove)\n",
        "trainDataArr_fix = np.delete(trainDataArr, neuronsToRemove, axis=2)\n",
        "testDataArr_fix = np.delete(testDataArr, neuronsToRemove, axis=2)\n",
        "print(neuronsToRemove)\n",
        "#====================================================#\n",
        "# END YOUR CODE\n",
        "#====================================================# \n",
        "##\n",
        "#====================================================#\n",
        "# YOUR CODE HERE:\n",
        "# Fit the ML parameters,classify the test data and print the accuracy\n",
        "#====================================================#\n",
        "d_prime = 97-len(neuronsToRemove)\n",
        "modParam2['pi']= np.array([1/NumClass]*NumClass)\n",
        "modParam2['mean'] = np.mean(trainDataArr_fix, axis=1)\n",
        "modParam2['cov'] = np.zeros((NumClass, d_prime,d_prime))\n",
        "for classix in range(NumClass):\n",
        "    modParam2['cov'][classix] = np.cov(trainDataArr_fix[classix].T)\n",
        "#Classify Model\n",
        "correct = 0.0\n",
        "total = NumTestData*NumClass\n",
        "for i in range(NumClass):\n",
        "    for j in range(NumTestData):\n",
        "        vals = np.zeros(NumClass)\n",
        "        x = testDataArr_fix[i,j]\n",
        "        for classix in range(NumClass):\n",
        "            dem = x-modParam2['mean'][classix] \n",
        "            vals[classix] = np.log(modParam2['pi'][classix])- 0.5*dem@np.linalg.pinv(modParam2['cov'][classix])@dem - 0.5*np.log(np.linalg.det(modParam2['cov'][classix]))\n",
        "        if np.argmax(vals)==i:\n",
        "            correct += 1\n",
        "print(float(correct)/total)\n",
        "#====================================================#\n",
        "# END YOUR CODE\n",
        "#====================================================# "
      ]
    },
    {
      "cell_type": "markdown",
      "metadata": {
        "id": "bW7hspdhSMxi"
      },
      "source": [
        "#### Question:\n",
        "What is the percent of test data points correctly classified? Is it higher or lower than your answer to part (a)? Why might this be?"
      ]
    },
    {
      "cell_type": "markdown",
      "metadata": {},
      "source": [
        "This classifier correctly identified 44% of the test points. This is much lower than our classifier in part a. This is potentially because the neurons may in actuality have very simiar covariances--meaning that when we partion the data to give each class a different covariance, we are artificially skewing our model in a way the ground truth is not. This is to say that the model in which our gaussians have different covariances may not be true. Additionally, in using smaller subsets of the data to compute each covariance matrix, we are less likely to converge to the true covariance matrix (law of large numbers). So since our estimate is also poorer, it is not surprising that our classifier performs more poorly."
      ]
    },
    {
      "cell_type": "markdown",
      "metadata": {
        "id": "whIqye6iSMxi"
      },
      "source": [
        "#### Your answer:  \n"
      ]
    },
    {
      "cell_type": "markdown",
      "metadata": {
        "id": "PmsBZfQZSMxi"
      },
      "source": [
        "### (d) (8 points) \n",
        "Now we classify using a naive Bayes model. Repeat part (a) for model iii). Keep the convention in part (c), where offending neurons were removed from the anal- ysis."
      ]
    },
    {
      "cell_type": "code",
      "execution_count": 33,
      "metadata": {
        "collapsed": true,
        "id": "8TD6UGfDSMxj"
      },
      "outputs": [
        {
          "name": "stdout",
          "output_type": "stream",
          "text": [
            "0.9203296703296703\n"
          ]
        }
      ],
      "source": [
        "##4d\n",
        "#====================================================#\n",
        "# YOUR CODE HERE:\n",
        "# Fit the ML parameters,classify the test data and print the accuracy\n",
        "#====================================================#\n",
        "\n",
        "modParam3['pi']= np.array([1/NumClass]*NumClass)\n",
        "modParam3['mean'] = np.zeros((NumClass, d_prime))\n",
        "for classix in range(NumClass):\n",
        "    modParam3['mean'][classix] = np.mean(trainDataArr_fix[classix], axis=0)\n",
        "#Classify Model\n",
        "correct = 0.0\n",
        "total = NumTestData*NumClass\n",
        "for i in range(NumClass):\n",
        "    for j in range(NumTestData):\n",
        "        vals = np.zeros(NumClass)\n",
        "        x = testDataArr_fix[i,j]\n",
        "        for classix in range(NumClass):\n",
        "            vals[classix] = np.log(modParam3['pi'][classix]) +np.log(modParam3['mean'][classix]).T@x - np.sum(modParam3['mean'][classix])- np.sum(np.log(scipy.special.factorial(x)))\n",
        "        if np.argmax(vals)==i:\n",
        "            correct += 1\n",
        "print(float(correct)/total)\n",
        "#====================================================#\n",
        "# END YOUR CODE\n",
        "#====================================================# "
      ]
    },
    {
      "cell_type": "markdown",
      "metadata": {
        "id": "ggPqsqlOSMxj"
      },
      "source": [
        "#### Question:\n",
        "what is the percent of test data points correctly classified? "
      ]
    },
    {
      "cell_type": "markdown",
      "metadata": {
        "id": "WaAAIUtkSMxj"
      },
      "source": [
        "#### Your answer: \n",
        "92.03% of the test data points were correctly classified."
      ]
    }
  ],
  "metadata": {
    "colab": {
      "name": "hw4p4.ipynb",
      "provenance": []
    },
    "kernelspec": {
      "display_name": "Python 3",
      "language": "python",
      "name": "python3"
    },
    "language_info": {
      "codemirror_mode": {
        "name": "ipython",
        "version": 3
      },
      "file_extension": ".py",
      "mimetype": "text/x-python",
      "name": "python",
      "nbconvert_exporter": "python",
      "pygments_lexer": "ipython3",
      "version": "3.6.13"
    }
  },
  "nbformat": 4,
  "nbformat_minor": 0
}
